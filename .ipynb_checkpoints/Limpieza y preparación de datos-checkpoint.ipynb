{
 "cells": [
  {
   "cell_type": "markdown",
   "id": "aa0fb730-2ae2-47c6-adf0-6366a04b1125",
   "metadata": {},
   "source": [
    "<h1> Entrega 4 Proyecto Final </h1>\n"
   ]
  },
  {
   "cell_type": "markdown",
   "id": "b6151a45-d6d9-40f2-89bb-e949faebb20b",
   "metadata": {},
   "source": [
    "Integrantes del equipo:\n",
    "\n",
    "\n",
    "*   Miguel Ángel Verdi\n",
    "*   Jorge Esaú Reséndiz\n",
    "*   Miguel Villalobos\n",
    "*   José Pablo González\n",
    "*   Gerardo Pájaro\n"
   ]
  },
  {
   "cell_type": "markdown",
   "id": "4ef73524-e690-41fb-9d30-d57f7a842b90",
   "metadata": {},
   "source": [
    "<p> Librerias y definición de parametros </p>\n"
   ]
  },
  {
   "cell_type": "code",
   "execution_count": 152,
   "id": "727c21ab-527e-4a66-a810-37f71eba5eb2",
   "metadata": {},
   "outputs": [],
   "source": [
    "import pandas as pd\n",
    "\n",
    "headers = [\n",
    "    'unit_number', 'time', 'opSet1', 'opSet2', 'opSet3',\n",
    "    'senMes1', 'senMes2', 'senMes3', 'senMes4', 'senMes5',\n",
    "    'senMes6', 'senMes7', 'senMes8', 'senMes9', 'senMes10',\n",
    "    'senMes11', 'senMes12', 'senMes13', 'senMes14', 'senMes15',\n",
    "    'senMes16', 'senMes17', 'senMes18', 'senMes19', 'senMes20',\n",
    "    'senMes21'\n",
    "]\n",
    "\n",
    "\n",
    "expected_types = {\n",
    "    'unit_number': 'int',\n",
    "    'time': 'int',\n",
    "    'opSet1': 'float',\n",
    "    'opSet2': 'float',\n",
    "    'opSet3': 'float',\n",
    "    'senMes1': 'float',\n",
    "    'senMes2': 'float',\n",
    "    'senMes3': 'float',\n",
    "    'senMes4': 'float',\n",
    "    'senMes5': 'float',\n",
    "    'senMes6': 'float',\n",
    "    'senMes7': 'float',\n",
    "    'senMes8': 'float',\n",
    "    'senMes9': 'float',\n",
    "    'senMes10': 'float',\n",
    "    'senMes11': 'float',\n",
    "    'senMes12': 'float',\n",
    "    'senMes13': 'float',\n",
    "    'senMes14': 'float',\n",
    "    'senMes15': 'float',\n",
    "    'senMes16': 'float',\n",
    "    'senMes17': 'float',\n",
    "    'senMes18': 'float',\n",
    "    'senMes19': 'float',\n",
    "    'senMes20': 'float',\n",
    "    'senMes21': 'float',\n",
    "    'FM': 'int',\n",
    "    'conditions': 'int',\n",
    "    'dataSet': 'float'\n",
    "}\n",
    "\n"
   ]
  },
  {
   "cell_type": "markdown",
   "id": "2cbd9c46-8b8d-4e3e-9ff0-65903392152d",
   "metadata": {},
   "source": [
    "<h1> Carga de datos </h1>\n",
    "\n",
    "<p> Creación de data frames apartir de archivos txt para los test data sets </p>\n",
    "<p> Los data frames para los 4 tipos de escenarios se combinan en un solo data set </p>\n",
    "\n"
   ]
  },
  {
   "cell_type": "code",
   "execution_count": 154,
   "id": "8c16b30c-1308-4885-ba3e-9bf574ed3e2a",
   "metadata": {},
   "outputs": [],
   "source": [
    "df_test_FD001 = pd.read_csv('test_FD001.txt', sep='\\s+', header=None, names=headers, engine='python')\n",
    "df_test_FD001['FM'] = 1  # Valor de fault models, puede ser 1 o 2 \n",
    "df_test_FD001['conditions'] = 1  # Atmospheric conditons \n",
    "df_test_FD001['dataSet'] = 'FD001'  #Name of the data set\n",
    "\n",
    "\n",
    "df_test_FD002 = pd.read_csv('test_FD002.txt', sep='\\s+', header=None, names=headers, engine='python')\n",
    "df_test_FD002['FM'] = 1  # Valor de fault models, puede ser 1 o 2 \n",
    "df_test_FD002['conditions'] = 6  # Atmospheric conditons \n",
    "df_test_FD002['dataSet'] = 'FD002'  #Name of the data set\n",
    "\n",
    "df_test_FD003 = pd.read_csv('test_FD003.txt', sep='\\s+', header=None, names=headers, engine='python')\n",
    "df_test_FD003['FM'] = 2  # Valor de fault models, puede ser 1 o 2 \n",
    "df_test_FD003['conditions'] = 1  # Atmospheric conditons \n",
    "df_test_FD003['dataSet'] = 'FD003'  #Name of the data set\n",
    "\n",
    "\n",
    "df_test_FD004 = pd.read_csv('test_FD004.txt', sep='\\s+', header=None, names=headers, engine='python')\n",
    "df_test_FD004['FM'] = 2  # Valor de fault models, puede ser 1 o 2 \n",
    "df_test_FD004['conditions'] = 6  # Atmospheric conditons \n",
    "df_test_FD004['dataSet'] = 'FD004'  #Name of the data set\n",
    "\n",
    "\n",
    "#Concatenación de todos los escenarios en un data frame de test\n",
    "df_test =  pd.concat([df_test_FD001, df_test_FD002, df_test_FD003, df_test_FD004], ignore_index=True)\n",
    "\n"
   ]
  },
  {
   "cell_type": "markdown",
   "id": "c78242ad-8794-4396-a561-100f65562aac",
   "metadata": {},
   "source": [
    "<p> Creación de data frames apartir de archivos txt para los train data sets </p>\n"
   ]
  },
  {
   "cell_type": "code",
   "execution_count": 156,
   "id": "15cef162-8f0b-41d9-a011-ad1f3ca6707c",
   "metadata": {},
   "outputs": [],
   "source": [
    "df_train_FD001 = pd.read_csv('train_FD001.txt', sep='\\s+', header=None, names=headers, engine='python')\n",
    "df_train_FD001['FM'] = 1  # Valor de fault models, puede ser 1 o 2 \n",
    "df_train_FD001['conditions'] = 1  # Atmospheric conditons \n",
    "df_train_FD001['dataSet'] = 'FD001'  #Name of the data set\n",
    "\n",
    "\n",
    "df_train_FD002 = pd.read_csv('train_FD002.txt', sep='\\s+', header=None, names=headers, engine='python')\n",
    "df_train_FD002['FM'] = 1  # Valor de fault models, puede ser 1 o 2 \n",
    "df_train_FD002['conditions'] = 6  # Atmospheric conditons \n",
    "df_train_FD002['dataSet'] = 'FD002'  #Name of the data set\n",
    "\n",
    "\n",
    "df_train_FD003 = pd.read_csv('train_FD003.txt', sep='\\s+', header=None, names=headers, engine='python')\n",
    "df_train_FD003['FM'] = 2  # Valor de fault models, puede ser 1 o 2 \n",
    "df_train_FD003['conditions'] = 1  # Atmospheric conditons \n",
    "df_train_FD003['dataSet'] = 'FD003'  #Name of the data set\n",
    "\n",
    "\n",
    "df_train_FD004 = pd.read_csv('train_FD004.txt', sep='\\s+', header=None, names=headers, engine='python')\n",
    "df_train_FD004['FM'] = 2  # Valor de fault models, puede ser 1 o 2 \n",
    "df_train_FD004['conditions'] = 6  # Atmospheric conditons \n",
    "df_train_FD004['dataSet'] = 'FD004'  #Name of the data set\n",
    "\n",
    "#Concatenación de todos los escenarios en un data frame de entrenamiento\n",
    "df_train =  pd.concat([df_train_FD001, df_train_FD002, df_train_FD003, df_train_FD004], ignore_index=True)\n",
    "\n",
    "\n"
   ]
  },
  {
   "cell_type": "markdown",
   "id": "0bf4529a-d335-4da2-9fe9-3448238053ba",
   "metadata": {},
   "source": [
    "<h1> Limpieza de datos </h1>\n",
    "<p> Eliminación de datos duplicados </p>\n"
   ]
  },
  {
   "cell_type": "code",
   "execution_count": 159,
   "id": "9f0605b3-a9df-478a-a5eb-604cf3ca29cd",
   "metadata": {},
   "outputs": [],
   "source": [
    "df_test.drop_duplicates(inplace=True)\n",
    "df_train.drop_duplicates(inplace=True)"
   ]
  },
  {
   "cell_type": "markdown",
   "id": "79aa7734-e110-460a-ae44-afa6d51f5c8e",
   "metadata": {},
   "source": [
    "<p> Eliminación de filas vacias </p>\n"
   ]
  },
  {
   "cell_type": "code",
   "execution_count": 162,
   "id": "4ba80cb9-e016-4dbb-b928-5a01cc45e578",
   "metadata": {},
   "outputs": [],
   "source": [
    "df_test = df_test.dropna()\n",
    "df_train = df_train.dropna()\n"
   ]
  },
  {
   "cell_type": "markdown",
   "id": "70287ad0-ce6d-438f-bcd9-c891fc215f3c",
   "metadata": {},
   "source": [
    "<p> Chequeo de tipos de datos  </p>\n"
   ]
  },
  {
   "cell_type": "code",
   "execution_count": 165,
   "id": "9f91dc09-a388-4dae-985e-036d77f25d25",
   "metadata": {},
   "outputs": [
    {
     "ename": "KeyError",
     "evalue": "\"Only a column name can be used for the key in a dtype mappings argument. 'Conditions' not found in columns.\"",
     "output_type": "error",
     "traceback": [
      "\u001b[1;31m---------------------------------------------------------------------------\u001b[0m",
      "\u001b[1;31mKeyError\u001b[0m                                  Traceback (most recent call last)",
      "\u001b[1;32m~\\AppData\\Local\\Temp\\ipykernel_29028\\3886397066.py\u001b[0m in \u001b[0;36m?\u001b[1;34m()\u001b[0m\n\u001b[1;32m----> 1\u001b[1;33m \u001b[0mdf_test\u001b[0m \u001b[1;33m=\u001b[0m \u001b[0mdf_test\u001b[0m\u001b[1;33m.\u001b[0m\u001b[0mastype\u001b[0m\u001b[1;33m(\u001b[0m\u001b[0mexpected_types\u001b[0m\u001b[1;33m)\u001b[0m \u001b[1;31m#Los tipos de datos de las filas se mapean a los valores deseados\u001b[0m\u001b[1;33m\u001b[0m\u001b[1;33m\u001b[0m\u001b[0m\n\u001b[0m\u001b[0;32m      2\u001b[0m \u001b[0mdf_train\u001b[0m \u001b[1;33m=\u001b[0m \u001b[0mdf_train\u001b[0m\u001b[1;33m.\u001b[0m\u001b[0mastype\u001b[0m\u001b[1;33m(\u001b[0m\u001b[0mexpected_types\u001b[0m\u001b[1;33m)\u001b[0m \u001b[1;31m#Los tipos de datos de las filas se mapean a los valores deseados\u001b[0m\u001b[1;33m\u001b[0m\u001b[1;33m\u001b[0m\u001b[0m\n\u001b[0;32m      3\u001b[0m \u001b[1;33m\u001b[0m\u001b[0m\n\u001b[0;32m      4\u001b[0m \u001b[1;33m\u001b[0m\u001b[0m\n",
      "\u001b[1;32m~\\anaconda3\\Lib\\site-packages\\pandas\\core\\generic.py\u001b[0m in \u001b[0;36m?\u001b[1;34m(self, dtype, copy, errors)\u001b[0m\n\u001b[0;32m   6494\u001b[0m             \u001b[0mdtype_ser\u001b[0m \u001b[1;33m=\u001b[0m \u001b[0mSeries\u001b[0m\u001b[1;33m(\u001b[0m\u001b[0mdtype\u001b[0m\u001b[1;33m,\u001b[0m \u001b[0mdtype\u001b[0m\u001b[1;33m=\u001b[0m\u001b[0mobject\u001b[0m\u001b[1;33m)\u001b[0m\u001b[1;33m\u001b[0m\u001b[1;33m\u001b[0m\u001b[0m\n\u001b[0;32m   6495\u001b[0m \u001b[1;33m\u001b[0m\u001b[0m\n\u001b[0;32m   6496\u001b[0m             \u001b[1;32mfor\u001b[0m \u001b[0mcol_name\u001b[0m \u001b[1;32min\u001b[0m \u001b[0mdtype_ser\u001b[0m\u001b[1;33m.\u001b[0m\u001b[0mindex\u001b[0m\u001b[1;33m:\u001b[0m\u001b[1;33m\u001b[0m\u001b[1;33m\u001b[0m\u001b[0m\n\u001b[0;32m   6497\u001b[0m                 \u001b[1;32mif\u001b[0m \u001b[0mcol_name\u001b[0m \u001b[1;32mnot\u001b[0m \u001b[1;32min\u001b[0m \u001b[0mself\u001b[0m\u001b[1;33m:\u001b[0m\u001b[1;33m\u001b[0m\u001b[1;33m\u001b[0m\u001b[0m\n\u001b[1;32m-> 6498\u001b[1;33m                     raise KeyError(\n\u001b[0m\u001b[0;32m   6499\u001b[0m                         \u001b[1;34m\"Only a column name can be used for the \"\u001b[0m\u001b[1;33m\u001b[0m\u001b[1;33m\u001b[0m\u001b[0m\n\u001b[0;32m   6500\u001b[0m                         \u001b[1;34m\"key in a dtype mappings argument. \"\u001b[0m\u001b[1;33m\u001b[0m\u001b[1;33m\u001b[0m\u001b[0m\n\u001b[0;32m   6501\u001b[0m                         \u001b[1;34mf\"'{col_name}' not found in columns.\"\u001b[0m\u001b[1;33m\u001b[0m\u001b[1;33m\u001b[0m\u001b[0m\n",
      "\u001b[1;31mKeyError\u001b[0m: \"Only a column name can be used for the key in a dtype mappings argument. 'Conditions' not found in columns.\""
     ]
    }
   ],
   "source": [
    "\n",
    "df_test = df_test.astype(expected_types) #Los tipos de datos de las filas se mapean a los valores deseados\n",
    "df_train = df_train.astype(expected_types) #Los tipos de datos de las filas se mapean a los valores deseados\n",
    "\n",
    "\n",
    "#Chequeo del tipo de datos del df de test respecto a los esperados\n",
    "for column, dtype in expected_types.items():\n",
    "    if df_test[column].dtype == dtype:\n",
    "        pass\n",
    "        #print(f\"{column}: Correcto ({dtype})\")\n",
    "    else:\n",
    "        print(f\"{column}: Incorrecto (actual: {df_test[column].dtype}, esperado: {dtype})\")\n",
    "\n",
    "#Chequeo del tipo de datos del df de train respecto a los esperado\n",
    "for column, dtype in expected_types.items():\n",
    "    if df_train[column].dtype == dtype:\n",
    "        pass\n",
    "        #print(f\"{column}: Correcto ({dtype})\")\n",
    "    else:\n",
    "        print(f\"{column}: Incorrecto (actual: {df_train[column].dtype}, esperado: {dtype})\")"
   ]
  },
  {
   "cell_type": "code",
   "execution_count": 167,
   "id": "d0591619-8668-4dc6-b244-89c648c1d0d8",
   "metadata": {},
   "outputs": [],
   "source": [
    "df_test.to_csv('df_test.csv', index=False)\n",
    "df_train.to_csv('df_train.csv', index=False)\n"
   ]
  }
 ],
 "metadata": {
  "kernelspec": {
   "display_name": "Python 3 (ipykernel)",
   "language": "python",
   "name": "python3"
  },
  "language_info": {
   "codemirror_mode": {
    "name": "ipython",
    "version": 3
   },
   "file_extension": ".py",
   "mimetype": "text/x-python",
   "name": "python",
   "nbconvert_exporter": "python",
   "pygments_lexer": "ipython3",
   "version": "3.11.7"
  }
 },
 "nbformat": 4,
 "nbformat_minor": 5
}
